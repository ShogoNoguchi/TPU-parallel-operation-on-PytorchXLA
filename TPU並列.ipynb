{
  "nbformat": 4,
  "nbformat_minor": 0,
  "metadata": {
    "colab": {
      "provenance": [],
      "gpuType": "V28",
      "include_colab_link": true
    },
    "kernelspec": {
      "name": "python3",
      "display_name": "Python 3"
    },
    "language_info": {
      "name": "python"
    },
    "accelerator": "TPU"
  },
  "cells": [
    {
      "cell_type": "markdown",
      "metadata": {
        "id": "view-in-github",
        "colab_type": "text"
      },
      "source": [
        "<a href=\"https://colab.research.google.com/github/ShogoNoguchi/TPU-parallel-operation-on-PytorchXLA/blob/main/TPU%E4%B8%A6%E5%88%97.ipynb\" target=\"_parent\"><img src=\"https://colab.research.google.com/assets/colab-badge.svg\" alt=\"Open In Colab\"/></a>"
      ]
    },
    {
      "cell_type": "code",
      "execution_count": null,
      "metadata": {
        "id": "4etRIAYNMml8"
      },
      "outputs": [],
      "source": [
        "import torch\n",
        "from torch import nn\n",
        "from torch.utils.data import DataLoader\n",
        "from torchvision import datasets\n",
        "from torchvision.transforms import ToTensor\n",
        "import torch_xla.core.xla_model as xm\n",
        "import torch_xla.distributed.parallel_loader as pl\n",
        "import torch_xla.distributed.xla_multiprocessing as xmp\n",
        "import torch_xla.runtime as xr\n",
        "\n",
        "# データセットの準備\n",
        "training_data = datasets.FashionMNIST(\n",
        "    root=\"data\", train=True, download=True, transform=ToTensor()\n",
        ")\n",
        "test_data = datasets.FashionMNIST(\n",
        "    root=\"data\", train=False, download=True, transform=ToTensor()\n",
        ")\n",
        "\n",
        "# データセットサイズを取得\n",
        "train_size = len(training_data)\n",
        "test_size = len(test_data)\n",
        "\n",
        "# モデル定義\n",
        "class NeuralNetwork(nn.Module):\n",
        "    def __init__(self):\n",
        "        super(NeuralNetwork, self).__init__()\n",
        "        self.flatten = nn.Flatten()\n",
        "        self.linear_relu_stack = nn.Sequential(\n",
        "            nn.Linear(28 * 28, 512),\n",
        "            nn.ReLU(),\n",
        "            nn.Linear(512, 512),\n",
        "            nn.ReLU(),\n",
        "            nn.Linear(512, 10),\n",
        "        )\n",
        "\n",
        "    def forward(self, x):\n",
        "        x = self.flatten(x)\n",
        "        logits = self.linear_relu_stack(x)\n",
        "        return logits\n",
        "\n",
        "def train_loop(dataloader, model, loss_fn, optimizer, device, dataset_size):\n",
        "    for batch_idx, (X, y) in enumerate(dataloader):\n",
        "        X, y = X.to(device), y.to(device)\n",
        "\n",
        "        pred = model(X)\n",
        "        loss = loss_fn(pred, y)\n",
        "\n",
        "        optimizer.zero_grad()\n",
        "        loss.backward()\n",
        "        xm.optimizer_step(optimizer)\n",
        "\n",
        "        # 主プロセスのみ出力\n",
        "        if batch_idx % 100 == 0 and xm.is_master_ordinal():\n",
        "            processed_samples = batch_idx * len(X)\n",
        "            print(f\"Batch {batch_idx}, Loss: {loss.item():>7f}, Processed Samples: {processed_samples}/{dataset_size}\")\n",
        "\n",
        "def test_loop(dataloader, model, loss_fn, device, dataset_size):\n",
        "    test_loss, correct = 0, 0\n",
        "    with torch.no_grad():\n",
        "        for X, y in dataloader:\n",
        "            X, y = X.to(device), y.to(device)\n",
        "            pred = model(X)\n",
        "            test_loss += loss_fn(pred, y).item() * len(X)\n",
        "            correct += (pred.argmax(1) == y).type(torch.float).sum().item()\n",
        "\n",
        "    accuracy = correct / dataset_size\n",
        "    avg_loss = test_loss / dataset_size\n",
        "\n",
        "    # 主プロセスのみ出力\n",
        "    if xm.is_master_ordinal():\n",
        "        print(f\"Test Error: \\n Accuracy: {(100 * accuracy):>0.1f}%, Avg loss: {avg_loss:>8f} \\n\")\n",
        "\n",
        "def _mp_fn(rank, flags):\n",
        "    device = xm.xla_device()\n",
        "\n",
        "    train_dataloader = DataLoader(training_data, batch_size=64, shuffle=True)\n",
        "    test_dataloader = DataLoader(test_data, batch_size=64, shuffle=False)\n",
        "    train_mp_loader = pl.MpDeviceLoader(train_dataloader, device)\n",
        "    test_mp_loader = pl.MpDeviceLoader(test_dataloader, device)\n",
        "\n",
        "    model = NeuralNetwork().to(device)\n",
        "    loss_fn = nn.CrossEntropyLoss()\n",
        "    optimizer = torch.optim.SGD(model.parameters(), lr=0.01, momentum=0.9)\n",
        "\n",
        "    for epoch in range(5):\n",
        "        if xm.is_master_ordinal():\n",
        "            print(f\"Epoch {epoch + 1}\\n-------------------------------\")\n",
        "        train_loop(train_mp_loader, model, loss_fn, optimizer, device, train_size)\n",
        "        test_loop(test_mp_loader, model, loss_fn, device, test_size)\n",
        "\n",
        "if __name__ == \"__main__\":\n",
        "    # 利用可能な TPU コア数を取得\n",
        "    tpu_cores = xr.world_size()\n",
        "    print(f\"Available TPU cores: {tpu_cores}\")\n",
        "\n",
        "    # コア数に応じて nprocs を設定\n",
        "    xmp.spawn(_mp_fn, args=(None,), nprocs=tpu_cores, start_method=\"fork\")\n"
      ]
    },
    {
      "cell_type": "code",
      "source": [],
      "metadata": {
        "id": "2Sppx-LAV1vO"
      },
      "execution_count": null,
      "outputs": []
    }
  ]
}